{
 "cells": [
  {
   "cell_type": "code",
   "execution_count": 11,
   "metadata": {},
   "outputs": [],
   "source": [
    "import csv\n"
   ]
  },
  {
   "cell_type": "code",
   "execution_count": 7,
   "metadata": {},
   "outputs": [
    {
     "name": "stdout",
     "output_type": "stream",
     "text": [
      "id,country,team,trophies\n",
      "0,England,Liverpool,6\n",
      "1,Spain,Barcelona,5\n",
      "2,England,Man United,3\n",
      "3,Italy,Inter,3\n",
      "4,England,Chelsea,2\n",
      "5,England,Chelsea,2\n",
      "6,England,Nottm Forest,2\n",
      "7,Portugal,Benfica,2\n",
      "8,Italy,Juventus,2\n",
      "9,Portugal,FC Porto,2\n",
      "10,England,Man City,1\n",
      "11,Germany,Dortmund,1\n",
      "12,Netherlands,Feyenoord,1\n",
      "13,France,Marseille,1\n",
      "14,England,Aston Villa,1\n",
      "15,Germany,Hamburg,1\n",
      "16,Serbia,Crvena zvezda,1\n",
      "17,Romania,FCSB,1\n",
      "18,Netherlands,PSV,1\n",
      "19,Scotland,Celtic,1 <class 'str'> id,country,team,trophies\n",
      "0,England,Liverpool,6\n",
      "1,Sp\n"
     ]
    }
   ],
   "source": [
    "with open(\"csvmichelin.csv\", \"r\") as file_reader:\n",
    "    text_inside = file_reader.read()\n",
    "    print(text_inside, type(text_inside), text_inside[:51])"
   ]
  },
  {
   "cell_type": "code",
   "execution_count": 9,
   "metadata": {},
   "outputs": [
    {
     "name": "stdout",
     "output_type": "stream",
     "text": [
      "['id,country,team,trophies\\n', '0,England,Liverpool,6\\n', '1,Spain,Barcelona,5\\n', '2,England,Man United,3\\n', '3,Italy,Inter,3\\n', '4,England,Chelsea,2\\n', '5,England,Chelsea,2\\n', '6,England,Nottm Forest,2\\n', '7,Portugal,Benfica,2\\n', '8,Italy,Juventus,2\\n', '9,Portugal,FC Porto,2\\n', '10,England,Man City,1\\n', '11,Germany,Dortmund,1\\n', '12,Netherlands,Feyenoord,1\\n', '13,France,Marseille,1\\n', '14,England,Aston Villa,1\\n', '15,Germany,Hamburg,1\\n', '16,Serbia,Crvena zvezda,1\\n', '17,Romania,FCSB,1\\n', '18,Netherlands,PSV,1\\n', '19,Scotland,Celtic,1'] <class 'list'> ['id,country,team,trophies\\n', '0,England,Liverpool,6\\n', '1,Spain,Barcelona,5\\n', '2,England,Man United,3\\n', '3,Italy,Inter,3\\n', '4,England,Chelsea,2\\n', '5,England,Chelsea,2\\n', '6,England,Nottm Forest,2\\n', '7,Portugal,Benfica,2\\n', '8,Italy,Juventus,2\\n', '9,Portugal,FC Porto,2\\n', '10,England,Man City,1\\n', '11,Germany,Dortmund,1\\n', '12,Netherlands,Feyenoord,1\\n', '13,France,Marseille,1\\n', '14,England,Aston Villa,1\\n', '15,Germany,Hamburg,1\\n', '16,Serbia,Crvena zvezda,1\\n', '17,Romania,FCSB,1\\n', '18,Netherlands,PSV,1\\n', '19,Scotland,Celtic,1']\n"
     ]
    }
   ],
   "source": [
    "with open(\"csvmichelin.csv\", \"r\") as file_reader:\n",
    "    text_lines = file_reader.readlines()\n",
    "    print(text_lines, type(text_lines), text_lines[:51])"
   ]
  },
  {
   "cell_type": "code",
   "execution_count": 13,
   "metadata": {},
   "outputs": [
    {
     "name": "stdout",
     "output_type": "stream",
     "text": [
      "[['id', 'country', 'team', 'trophies'], ['0', 'England', 'Liverpool', '6'], ['1', 'Spain', 'Barcelona', '5'], ['2', 'England', 'Man United', '3'], ['3', 'Italy', 'Inter', '3'], ['4', 'England', 'Chelsea', '2'], ['5', 'England', 'Chelsea', '2'], ['6', 'England', 'Nottm Forest', '2'], ['7', 'Portugal', 'Benfica', '2'], ['8', 'Italy', 'Juventus', '2'], ['9', 'Portugal', 'FC Porto', '2'], ['10', 'England', 'Man City', '1'], ['11', 'Germany', 'Dortmund', '1'], ['12', 'Netherlands', 'Feyenoord', '1'], ['13', 'France', 'Marseille', '1'], ['14', 'England', 'Aston Villa', '1'], ['15', 'Germany', 'Hamburg', '1'], ['16', 'Serbia', 'Crvena zvezda', '1'], ['17', 'Romania', 'FCSB', '1'], ['18', 'Netherlands', 'PSV', '1'], ['19', 'Scotland', 'Celtic', '1']]\n"
     ]
    }
   ],
   "source": [
    "with open(\"csvmichelin.csv\", \"r\") as file_reader:\n",
    "    csv_reader_object = csv.reader(file_reader)\n",
    "    data = [row for row in csv_reader_object]\n",
    "    print(data)"
   ]
  },
  {
   "cell_type": "code",
   "execution_count": 14,
   "metadata": {},
   "outputs": [
    {
     "name": "stdout",
     "output_type": "stream",
     "text": [
      "[['id', 'country', 'team', 'trophies'], ['0', 'Spain', 'Real Madrid', '15'], ['0', 'England', 'Liverpool', '6'], ['1', 'Spain', 'Barcelona', '5'], ['2', 'England', 'Man United', '3'], ['3', 'Italy', 'Inter', '3'], ['4', 'England', 'Chelsea', '2'], ['5', 'England', 'Chelsea', '2'], ['6', 'England', 'Nottm Forest', '2'], ['7', 'Portugal', 'Benfica', '2'], ['8', 'Italy', 'Juventus', '2'], ['9', 'Portugal', 'FC Porto', '2'], ['10', 'England', 'Man City', '1'], ['11', 'Germany', 'Dortmund', '1'], ['12', 'Netherlands', 'Feyenoord', '1'], ['13', 'France', 'Marseille', '1'], ['14', 'England', 'Aston Villa', '1'], ['15', 'Germany', 'Hamburg', '1'], ['16', 'Serbia', 'Crvena zvezda', '1'], ['17', 'Romania', 'FCSB', '1'], ['18', 'Netherlands', 'PSV', '1'], ['19', 'Scotland', 'Celtic', '1']]\n"
     ]
    }
   ],
   "source": [
    "new_entry = ['0', 'Spain', 'Real Madrid', '15']\n",
    "data.insert(1, new_entry)\n",
    "print(data)"
   ]
  },
  {
   "cell_type": "code",
   "execution_count": 15,
   "metadata": {},
   "outputs": [
    {
     "name": "stdout",
     "output_type": "stream",
     "text": [
      "[['id', 'country', 'team', 'trophies'], ['0', 'Spain', 'Real Madrid', '15'], ['1', 'England', 'Liverpool', '6'], ['1', 'Spain', 'Barcelona', '5'], ['2', 'England', 'Man United', '3'], ['3', 'Italy', 'Inter', '3'], ['4', 'England', 'Chelsea', '2'], ['5', 'England', 'Chelsea', '2'], ['6', 'England', 'Nottm Forest', '2'], ['7', 'Portugal', 'Benfica', '2'], ['8', 'Italy', 'Juventus', '2'], ['9', 'Portugal', 'FC Porto', '2'], ['10', 'England', 'Man City', '1'], ['11', 'Germany', 'Dortmund', '1'], ['12', 'Netherlands', 'Feyenoord', '1'], ['13', 'France', 'Marseille', '1'], ['14', 'England', 'Aston Villa', '1'], ['15', 'Germany', 'Hamburg', '1'], ['16', 'Serbia', 'Crvena zvezda', '1'], ['17', 'Romania', 'FCSB', '1'], ['18', 'Netherlands', 'PSV', '1'], ['19', 'Scotland', 'Celtic', '1']]\n"
     ]
    }
   ],
   "source": [
    "data[2][0] = '1'\n",
    "print(data)"
   ]
  },
  {
   "cell_type": "code",
   "execution_count": null,
   "metadata": {},
   "outputs": [],
   "source": [
    "with open(\"csvmichelin_edited.csv\", \"w\") as file_writer:\n",
    "    csv_writer_object = csv.writer(file_writer)\n",
    "    csv_writer_object.writerows(data)"
   ]
  }
 ],
 "metadata": {
  "kernelspec": {
   "display_name": "Python 3.8.10 64-bit",
   "language": "python",
   "name": "python3"
  },
  "language_info": {
   "codemirror_mode": {
    "name": "ipython",
    "version": 3
   },
   "file_extension": ".py",
   "mimetype": "text/x-python",
   "name": "python",
   "nbconvert_exporter": "python",
   "pygments_lexer": "ipython3",
   "version": "3.8.10"
  },
  "orig_nbformat": 4,
  "vscode": {
   "interpreter": {
    "hash": "ca4ca7b067c1df730d5ff87af37a86f0adf7ce0ec5c3598421698b0881dd43f9"
   }
  }
 },
 "nbformat": 4,
 "nbformat_minor": 2
}
