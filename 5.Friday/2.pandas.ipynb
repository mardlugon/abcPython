{
 "cells": [
  {
   "cell_type": "markdown",
   "metadata": {},
   "source": [
    "pip install pandas"
   ]
  },
  {
   "cell_type": "code",
   "execution_count": 1,
   "metadata": {},
   "outputs": [],
   "source": [
    "import pandas as pd"
   ]
  },
  {
   "cell_type": "code",
   "execution_count": 3,
   "metadata": {},
   "outputs": [
    {
     "name": "stdout",
     "output_type": "stream",
     "text": [
      "2.0.3\n"
     ]
    }
   ],
   "source": [
    "print(pd.__version__)"
   ]
  },
  {
   "cell_type": "code",
   "execution_count": 5,
   "metadata": {},
   "outputs": [
    {
     "ename": "NameError",
     "evalue": "name 'empty_series' is not defined",
     "output_type": "error",
     "traceback": [
      "\u001b[1;31m---------------------------------------------------------------------------\u001b[0m",
      "\u001b[1;31mNameError\u001b[0m                                 Traceback (most recent call last)",
      "Cell \u001b[1;32mIn [5], line 1\u001b[0m\n\u001b[1;32m----> 1\u001b[0m empty_series\u001b[39m.\u001b[39msize \u001b[39m=\u001b[39m pd\u001b[39m.\u001b[39mSeries()\n\u001b[0;32m      2\u001b[0m \u001b[39mprint\u001b[39m(empty_series)\n",
      "\u001b[1;31mNameError\u001b[0m: name 'empty_series' is not defined"
     ]
    }
   ],
   "source": [
    "empty_series.size = pd.Series()\n",
    "print(empty_series)\n"
   ]
  },
  {
   "cell_type": "code",
   "execution_count": 6,
   "metadata": {},
   "outputs": [
    {
     "name": "stdout",
     "output_type": "stream",
     "text": [
      "0    11\n",
      "1    22\n",
      "2    33\n",
      "3    44\n",
      "dtype: int64 <class 'pandas.core.series.Series'>\n"
     ]
    }
   ],
   "source": [
    "a_list = [11, 22, 33, 44]\n",
    "series = pd.Series(a_list)\n",
    "print(series, type(series))"
   ]
  },
  {
   "cell_type": "code",
   "execution_count": 7,
   "metadata": {},
   "outputs": [
    {
     "name": "stdout",
     "output_type": "stream",
     "text": [
      "0    RO\n",
      "1    PL\n",
      "2    HU\n",
      "dtype: object <class 'pandas.core.series.Series'>\n"
     ]
    }
   ],
   "source": [
    "a_list = [\"RO\", \"PL\", \"HU\"]\n",
    "series = pd.Series(a_list)\n",
    "print(series, type(series))"
   ]
  },
  {
   "cell_type": "code",
   "execution_count": 9,
   "metadata": {},
   "outputs": [
    {
     "name": "stdout",
     "output_type": "stream",
     "text": [
      "0                 RO\n",
      "1                 PL\n",
      "2                 HU\n",
      "3    [other, counte]\n",
      "dtype: object <class 'pandas.core.series.Series'>\n"
     ]
    }
   ],
   "source": [
    "a_list = [\"RO\", \"PL\", \"HU\", [\"other\", \"counte\"]]\n",
    "series = pd.Series(a_list)\n",
    "print(series, type(series))"
   ]
  },
  {
   "cell_type": "code",
   "execution_count": 14,
   "metadata": {},
   "outputs": [
    {
     "name": "stdout",
     "output_type": "stream",
     "text": [
      "0                 RO\n",
      "1                 PL\n",
      "2                 HU\n",
      "3    [other, counte]\n",
      "dtype: object <class 'pandas.core.series.Series'>\n",
      "['other', 'counte'] <class 'list'>\n"
     ]
    }
   ],
   "source": [
    "a_list = [\"RO\", \"PL\", \"HU\", [\"other\", \"counte\"]]\n",
    "series = pd.Series(a_list)\n",
    "print(series, type(series))\n",
    "print(series[3], type(series[3]))"
   ]
  },
  {
   "cell_type": "code",
   "execution_count": 16,
   "metadata": {},
   "outputs": [
    {
     "name": "stdout",
     "output_type": "stream",
     "text": [
      "0    111\n",
      "1    222\n",
      "2    333\n",
      "dtype: object\n"
     ]
    }
   ],
   "source": [
    "a_list =[111, 222, 333]\n",
    "my_ser = pd.Series(a_list, dtype=object)\n",
    "print(my_ser)"
   ]
  }
 ],
 "metadata": {
  "kernelspec": {
   "display_name": "Python 3.8.10 64-bit",
   "language": "python",
   "name": "python3"
  },
  "language_info": {
   "codemirror_mode": {
    "name": "ipython",
    "version": 3
   },
   "file_extension": ".py",
   "mimetype": "text/x-python",
   "name": "python",
   "nbconvert_exporter": "python",
   "pygments_lexer": "ipython3",
   "version": "3.8.10"
  },
  "orig_nbformat": 4,
  "vscode": {
   "interpreter": {
    "hash": "ca4ca7b067c1df730d5ff87af37a86f0adf7ce0ec5c3598421698b0881dd43f9"
   }
  }
 },
 "nbformat": 4,
 "nbformat_minor": 2
}
