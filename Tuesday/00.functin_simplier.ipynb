{
 "cells": [
  {
   "cell_type": "code",
   "execution_count": 4,
   "metadata": {},
   "outputs": [
    {
     "name": "stdout",
     "output_type": "stream",
     "text": [
      "Mozesz skrocic komendy i uzywac jak zmiennej\n"
     ]
    }
   ],
   "source": [
    "p = print\n",
    "p(\"Mozesz skrocic komendy i uzywac jak zmiennej\")"
   ]
  }
 ],
 "metadata": {
  "kernelspec": {
   "display_name": "Python 3.8.10 64-bit",
   "language": "python",
   "name": "python3"
  },
  "language_info": {
   "codemirror_mode": {
    "name": "ipython",
    "version": 3
   },
   "file_extension": ".py",
   "mimetype": "text/x-python",
   "name": "python",
   "nbconvert_exporter": "python",
   "pygments_lexer": "ipython3",
   "version": "3.8.10"
  },
  "orig_nbformat": 4,
  "vscode": {
   "interpreter": {
    "hash": "ca4ca7b067c1df730d5ff87af37a86f0adf7ce0ec5c3598421698b0881dd43f9"
   }
  }
 },
 "nbformat": 4,
 "nbformat_minor": 2
}
