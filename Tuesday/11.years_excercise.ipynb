{
 "cells": [
  {
   "cell_type": "code",
   "execution_count": 32,
   "metadata": {},
   "outputs": [
    {
     "name": "stdout",
     "output_type": "stream",
     "text": [
      "********* Allowed years *********\n",
      "392\n",
      "396\n",
      "400\n",
      "404\n",
      "408\n",
      "*********************************\n"
     ]
    }
   ],
   "source": [
    "start_year = 389 #= int(input(\"Start date: \"))\n",
    "end_year = 410 #int(input(\"End date\"))\n",
    "\n",
    "print(\"*\"*9, \"Allowed years\", \"*\"*9)\n",
    "list=range(start_year, end_year)\n",
    "for i in list:\n",
    "    if i % 4==0 and (not(i % 100==0) or i % 400==0):\n",
    "        print(i)\n",
    "\n",
    "print(\"*\"*33)"
   ]
  },
  {
   "cell_type": "code",
   "execution_count": 33,
   "metadata": {},
   "outputs": [
    {
     "name": "stdout",
     "output_type": "stream",
     "text": [
      "********* Allowed years *********\n",
      "392\n",
      "396\n",
      "400\n",
      "404\n",
      "408\n",
      "*********************************\n"
     ]
    }
   ],
   "source": [
    "start_year = 389 #= int(input(\"Start date: \"))\n",
    "end_year = 410 #int(input(\"End date\"))\n",
    "\n",
    "print(\"*\"*9, \"Allowed years\", \"*\"*9)\n",
    "for i in range(start_year, end_year):\n",
    "    if i % 4==0 and (not(i % 100==0) or i % 400==0):\n",
    "        print(i)\n",
    "\n",
    "print(\"*\"*33)"
   ]
  }
 ],
 "metadata": {
  "kernelspec": {
   "display_name": "Python 3.8.10 64-bit",
   "language": "python",
   "name": "python3"
  },
  "language_info": {
   "codemirror_mode": {
    "name": "ipython",
    "version": 3
   },
   "file_extension": ".py",
   "mimetype": "text/x-python",
   "name": "python",
   "nbconvert_exporter": "python",
   "pygments_lexer": "ipython3",
   "version": "3.8.10"
  },
  "orig_nbformat": 4,
  "vscode": {
   "interpreter": {
    "hash": "ca4ca7b067c1df730d5ff87af37a86f0adf7ce0ec5c3598421698b0881dd43f9"
   }
  }
 },
 "nbformat": 4,
 "nbformat_minor": 2
}
