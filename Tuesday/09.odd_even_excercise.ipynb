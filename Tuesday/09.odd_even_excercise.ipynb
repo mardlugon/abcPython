{
 "cells": [
  {
   "cell_type": "code",
   "execution_count": 15,
   "metadata": {},
   "outputs": [
    {
     "name": "stdout",
     "output_type": "stream",
     "text": [
      "3\n",
      "is odd\n",
      "7\n",
      "is odd\n",
      "9\n",
      "is odd\n",
      "2\n",
      "is even\n",
      "4\n",
      "is even\n",
      "5\n",
      "is odd\n",
      "12\n",
      "is even\n",
      "[2, 4, 12]\n",
      "[3, 7, 9, 5]\n"
     ]
    }
   ],
   "source": [
    "a = [3, 7, 9, 2, 4, 5, 12]\n",
    "even = []\n",
    "odd = []\n",
    "\n",
    "for i in a:\n",
    "    print(i)\n",
    "    if i % 2 ==0:\n",
    "        print(\"is even\")\n",
    "        even.append(i)\n",
    "    else:\n",
    "        print(\"is odd\")\n",
    "        odd.append(i)\n",
    "\n",
    "print(even)\n",
    "print(odd)"
   ]
  },
  {
   "cell_type": "code",
   "execution_count": 16,
   "metadata": {},
   "outputs": [
    {
     "name": "stdout",
     "output_type": "stream",
     "text": [
      "[2, 4, 12]\n",
      "[3, 7, 9, 5]\n"
     ]
    }
   ],
   "source": [
    "a = [3, 7, 9, 2, 4, 5, 12]\n",
    "even = [i for i in a if i % 2 == 0]\n",
    "odd = [i for i in a if i % 2 == 1]\n",
    "\n",
    "\n",
    "print(even)\n",
    "print(odd)"
   ]
  },
  {
   "cell_type": "code",
   "execution_count": null,
   "metadata": {},
   "outputs": [],
   "source": []
  }
 ],
 "metadata": {
  "kernelspec": {
   "display_name": "Python 3.8.10 64-bit",
   "language": "python",
   "name": "python3"
  },
  "language_info": {
   "codemirror_mode": {
    "name": "ipython",
    "version": 3
   },
   "file_extension": ".py",
   "mimetype": "text/x-python",
   "name": "python",
   "nbconvert_exporter": "python",
   "pygments_lexer": "ipython3",
   "version": "3.8.10"
  },
  "orig_nbformat": 4,
  "vscode": {
   "interpreter": {
    "hash": "ca4ca7b067c1df730d5ff87af37a86f0adf7ce0ec5c3598421698b0881dd43f9"
   }
  }
 },
 "nbformat": 4,
 "nbformat_minor": 2
}
