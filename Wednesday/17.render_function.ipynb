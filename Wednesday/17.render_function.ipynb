{
 "cells": [
  {
   "cell_type": "code",
   "execution_count": 7,
   "metadata": {},
   "outputs": [
    {
     "name": "stdout",
     "output_type": "stream",
     "text": [
      "It_s not palindrome\n"
     ]
    }
   ],
   "source": [
    "word = \"kaiad\"\n",
    "# print(list(word))\n",
    "# print(list(reversed(word)))\n",
    "\n",
    "if list(word) == list(reversed(word)):\n",
    "    print(\"It_s palindrome\")\n",
    "else:\n",
    "    print(\"It_s not palindrome\")\n"
   ]
  },
  {
   "cell_type": "code",
   "execution_count": 12,
   "metadata": {},
   "outputs": [
    {
     "name": "stdout",
     "output_type": "stream",
     "text": [
      "It_s not palindrome\n",
      "It_s not palindrome\n"
     ]
    }
   ],
   "source": [
    "def palindrome(word):\n",
    "    \n",
    "    if list(word) == list(reversed(word)):\n",
    "        print(\"It_s palindrome\")\n",
    "    else:\n",
    "        print(\"It_s not palindrome\") \n",
    "        \n",
    "           \n",
    "    if word == word[::-1]: #== list(reversed(word)):\n",
    "        print(\"It_s palindrome\")\n",
    "    else:\n",
    "        print(\"It_s not palindrome\")\n",
    "\n",
    "palindrome(\"kajas\")"
   ]
  }
 ],
 "metadata": {
  "kernelspec": {
   "display_name": "Python 3.8.10 64-bit",
   "language": "python",
   "name": "python3"
  },
  "language_info": {
   "codemirror_mode": {
    "name": "ipython",
    "version": 3
   },
   "file_extension": ".py",
   "mimetype": "text/x-python",
   "name": "python",
   "nbconvert_exporter": "python",
   "pygments_lexer": "ipython3",
   "version": "3.8.10"
  },
  "orig_nbformat": 4,
  "vscode": {
   "interpreter": {
    "hash": "ca4ca7b067c1df730d5ff87af37a86f0adf7ce0ec5c3598421698b0881dd43f9"
   }
  }
 },
 "nbformat": 4,
 "nbformat_minor": 2
}
