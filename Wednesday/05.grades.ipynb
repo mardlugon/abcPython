{
 "cells": [
  {
   "cell_type": "code",
   "execution_count": 17,
   "metadata": {},
   "outputs": [
    {
     "name": "stdout",
     "output_type": "stream",
     "text": [
      "insufficient\n",
      "sufficient\n",
      "preety good\n",
      "good\n",
      "excellent\n",
      "insufficient\n"
     ]
    }
   ],
   "source": [
    "mark = {\n",
    "    1: \"insufficient\",\n",
    "    2: \"sufficient\",\n",
    "    3: \"preety good\",\n",
    "    4: \"good\",\n",
    "    5: \"excellent\"\n",
    "    }\n",
    "\n",
    "# for i in mark:\n",
    "#     print(mark[i])\n",
    "\n",
    "grade = int(input(\"Grade? \"))\n",
    "\n",
    "for key in mark:\n",
    "    if key == value:\n",
    "\n",
    "# if mark[grade]:\n",
    "#     print(mark[grade])\n",
    "# else:\n",
    "#     print(\"Key not found\")\n",
    "\n",
    "\n",
    "# print(mark[int(grade)])\n",
    "\n",
    "# while grade == \"n\":\n",
    "#     grade = input(\"Grade? \")\n",
    "#     print(mark[grade])\n"
   ]
  }
 ],
 "metadata": {
  "kernelspec": {
   "display_name": "Python 3.8.10 64-bit",
   "language": "python",
   "name": "python3"
  },
  "language_info": {
   "codemirror_mode": {
    "name": "ipython",
    "version": 3
   },
   "file_extension": ".py",
   "mimetype": "text/x-python",
   "name": "python",
   "nbconvert_exporter": "python",
   "pygments_lexer": "ipython3",
   "version": "3.8.10"
  },
  "orig_nbformat": 4,
  "vscode": {
   "interpreter": {
    "hash": "ca4ca7b067c1df730d5ff87af37a86f0adf7ce0ec5c3598421698b0881dd43f9"
   }
  }
 },
 "nbformat": 4,
 "nbformat_minor": 2
}
