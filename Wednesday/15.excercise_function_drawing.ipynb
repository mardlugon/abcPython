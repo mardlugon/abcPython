{
 "cells": [
  {
   "cell_type": "code",
   "execution_count": 5,
   "metadata": {},
   "outputs": [
    {
     "name": "stdout",
     "output_type": "stream",
     "text": [
      "OOOOO\n",
      "0   0\n",
      "0   0\n",
      "0   0\n",
      "OOOOO\n"
     ]
    }
   ],
   "source": [
    "def draw(x, y):\n",
    "    \n",
    "    print(\"O\"*x)\n",
    "    for i in range(y-2):\n",
    "        print(\"0\" + \" \"*(x-2) + \"0\")\n",
    "\n",
    "    print(\"O\"*x)\n",
    "\n",
    "\n",
    "draw(5,5)\n"
   ]
  }
 ],
 "metadata": {
  "kernelspec": {
   "display_name": "Python 3.8.10 64-bit",
   "language": "python",
   "name": "python3"
  },
  "language_info": {
   "codemirror_mode": {
    "name": "ipython",
    "version": 3
   },
   "file_extension": ".py",
   "mimetype": "text/x-python",
   "name": "python",
   "nbconvert_exporter": "python",
   "pygments_lexer": "ipython3",
   "version": "3.8.10"
  },
  "orig_nbformat": 4,
  "vscode": {
   "interpreter": {
    "hash": "ca4ca7b067c1df730d5ff87af37a86f0adf7ce0ec5c3598421698b0881dd43f9"
   }
  }
 },
 "nbformat": 4,
 "nbformat_minor": 2
}
